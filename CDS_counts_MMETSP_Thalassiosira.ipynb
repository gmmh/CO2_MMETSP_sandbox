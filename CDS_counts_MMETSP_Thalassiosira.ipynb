{
 "cells": [
  {
   "cell_type": "code",
   "execution_count": 1,
   "metadata": {
    "collapsed": true
   },
   "outputs": [],
   "source": [
    "from ftplib import FTP #import ftp library\n",
    "import re #import regular expression tools"
   ]
  },
  {
   "cell_type": "code",
   "execution_count": 2,
   "metadata": {
    "collapsed": false
   },
   "outputs": [
    {
     "data": {
      "text/plain": [
       "'250 Directory successfully changed.'"
      ]
     },
     "execution_count": 2,
     "metadata": {},
     "output_type": "execute_result"
    }
   ],
   "source": [
    "ftp= FTP('ftp.imicrobe.us') #set ftp server\n",
    "ftp.login() #log in\n",
    "ftp.cwd('camera/combined_assemblies') #change to main working directory"
   ]
  },
  {
   "cell_type": "code",
   "execution_count": 3,
   "metadata": {
    "collapsed": false
   },
   "outputs": [
    {
     "data": {
      "text/plain": [
       "595"
      ]
     },
     "execution_count": 3,
     "metadata": {},
     "output_type": "execute_result"
    }
   ],
   "source": [
    "files=ftp.nlst() #make a list of all files and directories\n",
    "len(files) #check number, should be 595"
   ]
  },
  {
   "cell_type": "code",
   "execution_count": 4,
   "metadata": {
    "collapsed": false
   },
   "outputs": [
    {
     "name": "stdout",
     "output_type": "stream",
     "text": [
      "['Thalassiosira-antarctica-CCMP982', 'Thalassiosira-gravida-GMp14c1', 'Thalassiosira-miniscula-CCMP1093', 'Thalassiosira-oceanica-CCMP1005', 'Thalassiosira-rotula-CCMP3096', 'Thalassiosira-rotula-GSO102', 'Thalassiosira-weissflogii-CCMP1010', 'Thalassiosira-weissflogii-CCMP1336']\n"
     ]
    }
   ],
   "source": [
    "#Pull out only 'Thalassiosira-spp-strain' taxa ID\n",
    "delimiter=' '\n",
    "all=delimiter.join(files)\n",
    "taxa=re.findall('(Thalassiosira\\S*).pep.fa.gz',all)\n",
    "print taxa"
   ]
  },
  {
   "cell_type": "code",
   "execution_count": 8,
   "metadata": {
    "collapsed": false
   },
   "outputs": [],
   "source": [
    "#This looop pulls out all count data for each taxa and saves in count directory\n",
    "for ID in taxa:\n",
    "    #change to taxa directory/readcounts\n",
    "    ripdir= ID+\"/readcounts\"\n",
    "    ftp.cwd(ripdir)\n",
    "    #write to README file in working directory\n",
    "    savefile= \"../Thalassiosira/counts/\"+ID+\"_cds_counts.txt\"\n",
    "    ftp.retrbinary('RETR cds.dat', open(savefile, 'wb').write)\n",
    "    ftp.cwd(\"~/camera/combined_assemblies\")"
   ]
  },
  {
   "cell_type": "code",
   "execution_count": 7,
   "metadata": {
    "collapsed": false
   },
   "outputs": [
    {
     "data": {
      "text/plain": [
       "'250 Directory successfully changed.'"
      ]
     },
     "execution_count": 7,
     "metadata": {},
     "output_type": "execute_result"
    }
   ],
   "source": [
    "#ftp.cwd(\"~/camera/combined_assemblies\")"
   ]
  },
  {
   "cell_type": "code",
   "execution_count": 9,
   "metadata": {
    "collapsed": false
   },
   "outputs": [
    {
     "data": {
      "text/plain": [
       "'221 Goodbye.'"
      ]
     },
     "execution_count": 9,
     "metadata": {},
     "output_type": "execute_result"
    }
   ],
   "source": [
    "ftp.quit()"
   ]
  }
 ],
 "metadata": {
  "kernelspec": {
   "display_name": "Python 2",
   "language": "python",
   "name": "python2"
  },
  "language_info": {
   "codemirror_mode": {
    "name": "ipython",
    "version": 2
   },
   "file_extension": ".py",
   "mimetype": "text/x-python",
   "name": "python",
   "nbconvert_exporter": "python",
   "pygments_lexer": "ipython2",
   "version": "2.7.11"
  }
 },
 "nbformat": 4,
 "nbformat_minor": 0
}

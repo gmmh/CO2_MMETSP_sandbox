{
 "cells": [
  {
   "cell_type": "code",
   "execution_count": 1,
   "metadata": {
    "collapsed": true
   },
   "outputs": [],
   "source": [
    "import re"
   ]
  },
  {
   "cell_type": "code",
   "execution_count": 2,
   "metadata": {
    "collapsed": true
   },
   "outputs": [],
   "source": [
    "#Open up reference file with ortholog groups: gene IDs \n",
    "Ortho=open(\"../Thalassiosira/Results_Jan29_3/Ref_OrthologousGroups_QC.txt\",'r')\n",
    "ortho=Ortho.readlines()"
   ]
  },
  {
   "cell_type": "code",
   "execution_count": 3,
   "metadata": {
    "collapsed": true
   },
   "outputs": [],
   "source": [
    "#open up counts file for thaps ref\n",
    "counts=open(\"../Thalassiosira/counts/Ref/seastar.antisense.tab\",'r')\n",
    "header=counts.readline().split()"
   ]
  },
  {
   "cell_type": "code",
   "execution_count": 4,
   "metadata": {
    "collapsed": true
   },
   "outputs": [],
   "source": [
    "#Open up output file for count and orthogroup ID\n",
    "out=open(\"../Thalassiosira/counts/Ref/CO2_Thaps_orthoID_counts.txt\",'w')"
   ]
  },
  {
   "cell_type": "code",
   "execution_count": 5,
   "metadata": {
    "collapsed": false
   },
   "outputs": [],
   "source": [
    "out.write(\" \".join(header+[\"Orthogroup\"]))\n",
    "out.write(\"\\n\")"
   ]
  },
  {
   "cell_type": "code",
   "execution_count": 6,
   "metadata": {
    "collapsed": false
   },
   "outputs": [
    {
     "data": {
      "text/plain": [
       "['Symbol',\n",
       " 'A314.antisense.seastar.tab',\n",
       " 'B314.antisense.seastar.tab',\n",
       " 'A414.antisense.seastar.tab',\n",
       " 'B414.antisense.seastar.tab',\n",
       " 'A825.antisense.seastar.tab',\n",
       " 'B825.antisense.seastar.tab',\n",
       " 'A1114.antisense.seastar.tab',\n",
       " 'B1114.antisense.seastar.tab',\n",
       " 'A1012.antisense.seastar.tab',\n",
       " 'B1012.antisense.seastar.tab',\n",
       " 'A1210.antisense.seastar.tab',\n",
       " 'B1210.antisense.seastar.tab']"
      ]
     },
     "execution_count": 6,
     "metadata": {},
     "output_type": "execute_result"
    }
   ],
   "source": [
    "header"
   ]
  },
  {
   "cell_type": "code",
   "execution_count": 7,
   "metadata": {
    "collapsed": false
   },
   "outputs": [],
   "source": [
    "for line in counts:\n",
    "    x=line.split()\n",
    "    y=line.split('|')\n",
    "    oid=['NA']\n",
    "    for i in ortho:\n",
    "        if y[2] in re.findall(\"[|]([0-9]+)[|]\",i):\n",
    "            oid=i.split(':')[:1]\n",
    "            break\n",
    "    out.write(\" \".join(x+oid))\n",
    "    out.write(\"\\n\")"
   ]
  },
  {
   "cell_type": "code",
   "execution_count": 8,
   "metadata": {
    "collapsed": false
   },
   "outputs": [],
   "source": [
    "Ortho.close()"
   ]
  },
  {
   "cell_type": "code",
   "execution_count": 9,
   "metadata": {
    "collapsed": false
   },
   "outputs": [],
   "source": [
    "counts.close()"
   ]
  },
  {
   "cell_type": "code",
   "execution_count": 10,
   "metadata": {
    "collapsed": false
   },
   "outputs": [],
   "source": [
    "out.close()"
   ]
  },
  {
   "cell_type": "code",
   "execution_count": null,
   "metadata": {
    "collapsed": true
   },
   "outputs": [],
   "source": []
  }
 ],
 "metadata": {
  "kernelspec": {
   "display_name": "Python 2",
   "language": "python",
   "name": "python2"
  },
  "language_info": {
   "codemirror_mode": {
    "name": "ipython",
    "version": 2
   },
   "file_extension": ".py",
   "mimetype": "text/x-python",
   "name": "python",
   "nbconvert_exporter": "python",
   "pygments_lexer": "ipython2",
   "version": "2.7.11"
  }
 },
 "nbformat": 4,
 "nbformat_minor": 0
}

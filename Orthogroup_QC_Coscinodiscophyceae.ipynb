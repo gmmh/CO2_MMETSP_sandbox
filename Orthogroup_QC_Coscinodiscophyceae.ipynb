{
 "cells": [
  {
   "cell_type": "code",
   "execution_count": 1,
   "metadata": {
    "collapsed": true
   },
   "outputs": [],
   "source": [
    "import re"
   ]
  },
  {
   "cell_type": "code",
   "execution_count": 2,
   "metadata": {
    "collapsed": false
   },
   "outputs": [],
   "source": [
    "#open orthogroup results file\n",
    "Ortho=open('../Coscinodiscophyceae/orthologs/OrthologousGroups.txt','r')"
   ]
  },
  {
   "cell_type": "code",
   "execution_count": 3,
   "metadata": {
    "collapsed": true
   },
   "outputs": [],
   "source": [
    "#Open new file for writing Quality controlled Orthogroups\n",
    "out=open(\"../Coscinodiscophyceae/orthologs/OrthologousGroups_QC.txt\", 'w')"
   ]
  },
  {
   "cell_type": "code",
   "execution_count": 4,
   "metadata": {
    "collapsed": false
   },
   "outputs": [],
   "source": [
    "#Open a new file for writing a file for thaps IDs to orthogroup IDs\n",
    "out2=open(\"../Coscinodiscophyceae/orthologs/Ref_OrthologousGroups_QC.txt\",'w')"
   ]
  },
  {
   "cell_type": "code",
   "execution_count": 5,
   "metadata": {
    "collapsed": false
   },
   "outputs": [],
   "source": [
    "#Keep only Orthogroups with at least one thaps and one other group with 7 members\n",
    "for line in Ortho:\n",
    "    if re.search(\"Thaps\",line) and len(line.split())>7 and re.search(\"CAMPEP\", line):\n",
    "        out.write(line)\n",
    "        tid=re.findall(\"(jgi\\S*)\",line)\n",
    "        y=line.split()\n",
    "        out2.write(\" \".join(y[:1]+tid))\n",
    "        out2.write(\"\\n\")\n",
    "                "
   ]
  },
  {
   "cell_type": "code",
   "execution_count": 6,
   "metadata": {
    "collapsed": false
   },
   "outputs": [],
   "source": [
    "out.close()"
   ]
  },
  {
   "cell_type": "code",
   "execution_count": 7,
   "metadata": {
    "collapsed": false
   },
   "outputs": [],
   "source": [
    "out2.close()"
   ]
  },
  {
   "cell_type": "code",
   "execution_count": 8,
   "metadata": {
    "collapsed": false
   },
   "outputs": [],
   "source": [
    "Ortho.close()"
   ]
  },
  {
   "cell_type": "code",
   "execution_count": null,
   "metadata": {
    "collapsed": true
   },
   "outputs": [],
   "source": []
  }
 ],
 "metadata": {
  "kernelspec": {
   "display_name": "Python 2",
   "language": "python",
   "name": "python2"
  },
  "language_info": {
   "codemirror_mode": {
    "name": "ipython",
    "version": 2
   },
   "file_extension": ".py",
   "mimetype": "text/x-python",
   "name": "python",
   "nbconvert_exporter": "python",
   "pygments_lexer": "ipython2",
   "version": "2.7.11"
  }
 },
 "nbformat": 4,
 "nbformat_minor": 0
}

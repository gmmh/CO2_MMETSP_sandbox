{
 "cells": [
  {
   "cell_type": "code",
   "execution_count": 19,
   "metadata": {
    "collapsed": true
   },
   "outputs": [],
   "source": [
    "import re"
   ]
  },
  {
   "cell_type": "code",
   "execution_count": 20,
   "metadata": {
    "collapsed": true
   },
   "outputs": [],
   "source": [
    "delimiter=\" \""
   ]
  },
  {
   "cell_type": "code",
   "execution_count": 42,
   "metadata": {
    "collapsed": true
   },
   "outputs": [],
   "source": [
    "#Open up QC ortholog file with orthogroup and CAMPEP IDs\n",
    "Ortho=open('../DiffExp_CO2/orthologs/OrthologousGroups_QC.txt','r')\n",
    "#Ortho.readline()"
   ]
  },
  {
   "cell_type": "code",
   "execution_count": 43,
   "metadata": {
    "collapsed": false
   },
   "outputs": [
    {
     "name": "stdout",
     "output_type": "stream",
     "text": [
      "<open file '../DiffExp_CO2/peptide/Prorocentrum-minimum-CCMP1329.pep.fa', mode 'r' at 0x103f97d20>\n"
     ]
    }
   ],
   "source": [
    "# open up peptide file which contains all info in fasta headers\n",
    "#Note need to make this inside a loop so make taxa name variable\n",
    "I=open('../DiffExp_CO2/peptide/Prorocentrum-minimum-CCMP1329.pep.fa','r')\n",
    "print I"
   ]
  },
  {
   "cell_type": "code",
   "execution_count": 44,
   "metadata": {
    "collapsed": false
   },
   "outputs": [
    {
     "name": "stdout",
     "output_type": "stream",
     "text": [
      "<open file '../DiffExp_CO2/orthologs/Prorocentrum-minimum-CCMP1329_geneIDs.txt', mode 'w' at 0x103f97c00>\n"
     ]
    }
   ],
   "source": [
    "#Open up the output file, change to include variable taxa name\n",
    "O=open('../DiffExp_CO2/orthologs/Prorocentrum-minimum-CCMP1329_geneIDs.txt','w')\n",
    "print O"
   ]
  },
  {
   "cell_type": "code",
   "execution_count": 45,
   "metadata": {
    "collapsed": false
   },
   "outputs": [],
   "source": [
    "# Loop over all the lines in the input file to pull out CAMPEP and cds IDs\n",
    "for line in I:\n",
    "    Ortho.seek(0)\n",
    "    OrID=['NA']\n",
    "    if re.search('^>\\S*', line):\n",
    "        #pull out CAMPEP and cds IDS\n",
    "        y=line.split() #split the line by whitespace\n",
    "        #Need to add taxaID to 'out'\n",
    "        PEPID=re.findall(\">(CAMPEP_\\S*)\", y[0])\n",
    "        cdsID=re.findall(\"([0-9]+_[0-9]+)\", y[1])\n",
    "        #Search Ortholog file for CAMPEP ID and pull out any orthoIDs\n",
    "        for nl in Ortho:\n",
    "            if re.search(''.join(PEPID), nl):\n",
    "                OrID=re.findall(\"(OG[0-9]+):\",nl)\n",
    "                #print OrID\n",
    "                break\n",
    "            #concatenate these ortho IDs onto 'out', else concatenate 'NA'\n",
    "            #Write to output file\n",
    "        out= PEPID+cdsID+OrID\n",
    "        O.write(delimiter.join(out))\n",
    "        O.write(\"\\n\")"
   ]
  },
  {
   "cell_type": "code",
   "execution_count": 46,
   "metadata": {
    "collapsed": true
   },
   "outputs": [],
   "source": [
    "I.close()"
   ]
  },
  {
   "cell_type": "code",
   "execution_count": 47,
   "metadata": {
    "collapsed": false
   },
   "outputs": [],
   "source": [
    "O.close()"
   ]
  },
  {
   "cell_type": "code",
   "execution_count": 48,
   "metadata": {
    "collapsed": true
   },
   "outputs": [],
   "source": [
    "Ortho.close()"
   ]
  },
  {
   "cell_type": "code",
   "execution_count": null,
   "metadata": {
    "collapsed": true
   },
   "outputs": [],
   "source": []
  }
 ],
 "metadata": {
  "kernelspec": {
   "display_name": "Python 2",
   "language": "python",
   "name": "python2"
  },
  "language_info": {
   "codemirror_mode": {
    "name": "ipython",
    "version": 2
   },
   "file_extension": ".py",
   "mimetype": "text/x-python",
   "name": "python",
   "nbconvert_exporter": "python",
   "pygments_lexer": "ipython2",
   "version": "2.7.11"
  }
 },
 "nbformat": 4,
 "nbformat_minor": 0
}

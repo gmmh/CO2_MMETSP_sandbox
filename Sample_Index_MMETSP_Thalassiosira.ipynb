{
 "cells": [
  {
   "cell_type": "code",
   "execution_count": 1,
   "metadata": {
    "collapsed": true
   },
   "outputs": [],
   "source": [
    "from ftplib import FTP #import ftp library\n",
    "import re #import regular expression tools"
   ]
  },
  {
   "cell_type": "code",
   "execution_count": 2,
   "metadata": {
    "collapsed": false
   },
   "outputs": [
    {
     "data": {
      "text/plain": [
       "'250 Directory successfully changed.'"
      ]
     },
     "execution_count": 2,
     "metadata": {},
     "output_type": "execute_result"
    }
   ],
   "source": [
    "ftp= FTP('ftp.imicrobe.us') #set ftp server\n",
    "ftp.login() #log in\n",
    "ftp.cwd('camera/combined_assemblies') #change to main working directory"
   ]
  },
  {
   "cell_type": "code",
   "execution_count": 3,
   "metadata": {
    "collapsed": false
   },
   "outputs": [
    {
     "data": {
      "text/plain": [
       "595"
      ]
     },
     "execution_count": 3,
     "metadata": {},
     "output_type": "execute_result"
    }
   ],
   "source": [
    "files=ftp.nlst() #make a list of all files and directories\n",
    "len(files) #check number, should be 595"
   ]
  },
  {
   "cell_type": "code",
   "execution_count": 4,
   "metadata": {
    "collapsed": false
   },
   "outputs": [
    {
     "name": "stdout",
     "output_type": "stream",
     "text": [
      "['Thalassiosira-antarctica-CCMP982', 'Thalassiosira-gravida-GMp14c1', 'Thalassiosira-miniscula-CCMP1093', 'Thalassiosira-oceanica-CCMP1005', 'Thalassiosira-rotula-CCMP3096', 'Thalassiosira-rotula-GSO102', 'Thalassiosira-weissflogii-CCMP1010', 'Thalassiosira-weissflogii-CCMP1336']\n"
     ]
    }
   ],
   "source": [
    "#Pull out only 'Thalassiosira-spp-strain' taxa ID\n",
    "delimiter=' '\n",
    "all=delimiter.join(files)\n",
    "taxa=re.findall('(Thalassiosira\\S*).pep.fa.gz',all)\n",
    "print taxa"
   ]
  },
  {
   "cell_type": "code",
   "execution_count": 5,
   "metadata": {
    "collapsed": true
   },
   "outputs": [],
   "source": [
    "#Open a new file for the output of the script\n",
    "output=open('../Thalassiosira/Sample_Index.txt','w')"
   ]
  },
  {
   "cell_type": "code",
   "execution_count": 6,
   "metadata": {
    "collapsed": false
   },
   "outputs": [],
   "source": [
    "#This looop pulls out all samples for each taxa\n",
    "for ID in taxa:\n",
    "    #change to taxa directory\n",
    "    ftp.cwd(ID)\n",
    "    #write to README file in working directory\n",
    "    ftp.retrbinary('RETR README', open('../work/README', 'wb').write)\n",
    "    #open file\n",
    "    f=open('../work/README', 'rb')\n",
    "    y=f.readlines()\n",
    "    f.close()\n",
    "    #print ID\n",
    "    output.write(ID)\n",
    "    output.write(\" \")\n",
    "    #This part double checks that the taxaID matches the header\n",
    "    if re.search(ID,y[0]): \n",
    "        #print \"taxa same as README header\"\n",
    "        delimiter=\" \"\n",
    "        Samples=re.findall(\"(MMETSP\\S*)\",delimiter.join(y))\n",
    "        output.write(delimiter.join(Samples))\n",
    "        output.write(\"\\n\")\n",
    "        #print Samples\n",
    "        #print \"\\n\"\n",
    "    else:\n",
    "        print \"Error: taxa not the same as README header for taxa={}\".format(ID)\n",
    "    ftp.cwd(\"..\")"
   ]
  },
  {
   "cell_type": "code",
   "execution_count": 7,
   "metadata": {
    "collapsed": false
   },
   "outputs": [],
   "source": [
    "output.close()"
   ]
  },
  {
   "cell_type": "code",
   "execution_count": 8,
   "metadata": {
    "collapsed": false
   },
   "outputs": [
    {
     "data": {
      "text/plain": [
       "'221 Goodbye.'"
      ]
     },
     "execution_count": 8,
     "metadata": {},
     "output_type": "execute_result"
    }
   ],
   "source": [
    "ftp.quit()"
   ]
  },
  {
   "cell_type": "code",
   "execution_count": null,
   "metadata": {
    "collapsed": true
   },
   "outputs": [],
   "source": []
  }
 ],
 "metadata": {
  "kernelspec": {
   "display_name": "Python 2",
   "language": "python",
   "name": "python2"
  },
  "language_info": {
   "codemirror_mode": {
    "name": "ipython",
    "version": 2
   },
   "file_extension": ".py",
   "mimetype": "text/x-python",
   "name": "python",
   "nbconvert_exporter": "python",
   "pygments_lexer": "ipython2",
   "version": "2.7.11"
  }
 },
 "nbformat": 4,
 "nbformat_minor": 0
}

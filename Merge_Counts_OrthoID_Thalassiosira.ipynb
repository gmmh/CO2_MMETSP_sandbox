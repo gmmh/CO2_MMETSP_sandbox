{
 "cells": [
  {
   "cell_type": "code",
   "execution_count": 1,
   "metadata": {
    "collapsed": true
   },
   "outputs": [],
   "source": [
    "import re"
   ]
  },
  {
   "cell_type": "code",
   "execution_count": 2,
   "metadata": {
    "collapsed": false
   },
   "outputs": [
    {
     "data": {
      "text/plain": [
       "['Thalassiosira-weissflogii-CCMP1336-20130909|53050_1\\t570\\t542\\t692\\t604\\n',\n",
       " 'Thalassiosira-weissflogii-CCMP1336-20130909|3814_1\\t178\\t292\\t192\\t188\\n',\n",
       " 'Thalassiosira-weissflogii-CCMP1336-20130909|16888_1\\t2002\\t3212\\t1786\\t3648\\n',\n",
       " 'Thalassiosira-weissflogii-CCMP1336-20130909|13411_1\\t5060\\t5616\\t5052\\t4772\\n',\n",
       " 'Thalassiosira-weissflogii-CCMP1336-20130909|60094_1\\t1756\\t1795\\t1570\\t1634\\n']"
      ]
     },
     "execution_count": 2,
     "metadata": {},
     "output_type": "execute_result"
    }
   ],
   "source": [
    "#Open counts file (by taxa name)\n",
    "counts=open('../Thalassiosira/counts/Thalassiosira-weissflogii-CCMP1336_cds_counts.txt', 'r')\n",
    "cl=counts.readlines()\n",
    "header=cl.pop(0) #pop off header\n",
    "cl[0:5] #check count list"
   ]
  },
  {
   "cell_type": "code",
   "execution_count": 3,
   "metadata": {
    "collapsed": false
   },
   "outputs": [],
   "source": [
    "#Open geneIDs file (by taxa name)\n",
    "gID=open('../work/Thalassiosira-weissflogii-CCMP1336_geneIDs.txt', 'r')\n",
    "#gl=gID.readlines()\n",
    "#gl[0:5]"
   ]
  },
  {
   "cell_type": "code",
   "execution_count": 4,
   "metadata": {
    "collapsed": true
   },
   "outputs": [],
   "source": [
    "#open Outfile for writing\n",
    "O=open('../Thalassiosira/counts/Thalassiosira-weissflogii-CCMP1336_orthoID_counts.txt','w')"
   ]
  },
  {
   "cell_type": "code",
   "execution_count": 5,
   "metadata": {
    "collapsed": false
   },
   "outputs": [
    {
     "name": "stdout",
     "output_type": "stream",
     "text": [
      "['PeptideID', 'cds', 'Orthogroup', 'Contig', 'MMETSP0878', 'MMETSP0879', 'MMETSP0880', 'MMETSP0881']\n"
     ]
    }
   ],
   "source": [
    "finalhead=['PeptideID','cds','Orthogroup']+header.split()\n",
    "print finalhead"
   ]
  },
  {
   "cell_type": "code",
   "execution_count": 6,
   "metadata": {
    "collapsed": true
   },
   "outputs": [],
   "source": [
    "delimiter=\" \"\n",
    "O.write(delimiter.join(finalhead))\n",
    "O.write(\"\\n\")"
   ]
  },
  {
   "cell_type": "code",
   "execution_count": 7,
   "metadata": {
    "collapsed": false
   },
   "outputs": [],
   "source": [
    "#put together counts and geneIDs, double check that contig IDs match\n",
    "for line in gID:\n",
    "    y=line.split()\n",
    "    cds= y[1]\n",
    "    for n in range(len(cl)):\n",
    "        if cds==''.join(re.findall('[|]([0-9]+_[0-9]+)',cl[n])) :\n",
    "            x=cl[n].split()\n",
    "            break\n",
    "    out=y+x\n",
    "    O.write(delimiter.join(out))\n",
    "    O.write(\"\\n\")\n"
   ]
  },
  {
   "cell_type": "code",
   "execution_count": 8,
   "metadata": {
    "collapsed": true
   },
   "outputs": [],
   "source": [
    "counts.close()"
   ]
  },
  {
   "cell_type": "code",
   "execution_count": 9,
   "metadata": {
    "collapsed": true
   },
   "outputs": [],
   "source": [
    "gID.close()"
   ]
  },
  {
   "cell_type": "code",
   "execution_count": 10,
   "metadata": {
    "collapsed": true
   },
   "outputs": [],
   "source": [
    "O.close()"
   ]
  },
  {
   "cell_type": "code",
   "execution_count": 7,
   "metadata": {
    "collapsed": false
   },
   "outputs": [
    {
     "name": "stdout",
     "output_type": "stream",
     "text": [
      "14281\n"
     ]
    }
   ],
   "source": [
    "out = cl.pop(1).split()\n",
    "print len(cl)"
   ]
  },
  {
   "cell_type": "code",
   "execution_count": 8,
   "metadata": {
    "collapsed": false
   },
   "outputs": [
    {
     "data": {
      "text/plain": [
       "['Thalassiosira-weissflogii-CCMP1336-20130909|61282_1',\n",
       " '1528',\n",
       " '1416',\n",
       " '1500',\n",
       " '1373']"
      ]
     },
     "execution_count": 8,
     "metadata": {},
     "output_type": "execute_result"
    }
   ],
   "source": [
    "out"
   ]
  },
  {
   "cell_type": "code",
   "execution_count": null,
   "metadata": {
    "collapsed": true
   },
   "outputs": [],
   "source": []
  }
 ],
 "metadata": {
  "kernelspec": {
   "display_name": "Python 2",
   "language": "python",
   "name": "python2"
  },
  "language_info": {
   "codemirror_mode": {
    "name": "ipython",
    "version": 2
   },
   "file_extension": ".py",
   "mimetype": "text/x-python",
   "name": "python",
   "nbconvert_exporter": "python",
   "pygments_lexer": "ipython2",
   "version": "2.7.11"
  }
 },
 "nbformat": 4,
 "nbformat_minor": 0
}

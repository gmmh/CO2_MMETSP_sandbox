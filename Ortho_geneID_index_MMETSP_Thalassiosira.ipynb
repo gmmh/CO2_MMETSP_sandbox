{
 "cells": [
  {
   "cell_type": "code",
   "execution_count": 1,
   "metadata": {
    "collapsed": true
   },
   "outputs": [],
   "source": [
    "import re"
   ]
  },
  {
   "cell_type": "code",
   "execution_count": 2,
   "metadata": {
    "collapsed": true
   },
   "outputs": [],
   "source": [
    "delimiter=\" \""
   ]
  },
  {
   "cell_type": "code",
   "execution_count": 3,
   "metadata": {
    "collapsed": true
   },
   "outputs": [],
   "source": [
    "#Open up QC ortholog file with orthogroup and CAMPEP IDs\n",
    "Ortho=open('../Thalassiosira/Results_Jan29_3/OrthologousGroups_QC.txt','r')\n",
    "#Ortho.readline()"
   ]
  },
  {
   "cell_type": "code",
   "execution_count": 4,
   "metadata": {
    "collapsed": false
   },
   "outputs": [
    {
     "name": "stdout",
     "output_type": "stream",
     "text": [
      "<open file '../Thalassiosira/Thalassiosira-weissflogii-CCMP1336.pep.fa', mode 'r' at 0x103d67a50>\n"
     ]
    }
   ],
   "source": [
    "# open up peptide file which contains all info in fasta headers\n",
    "#Note need to make this inside a loop so make taxa name variable\n",
    "I=open('../Thalassiosira/Thalassiosira-weissflogii-CCMP1336.pep.fa','r')\n",
    "print I"
   ]
  },
  {
   "cell_type": "code",
   "execution_count": 5,
   "metadata": {
    "collapsed": false
   },
   "outputs": [
    {
     "name": "stdout",
     "output_type": "stream",
     "text": [
      "<open file '../work/Thalassiosira-weissflogii-CCMP1336_geneIDs.txt', mode 'w' at 0x103d67b70>\n"
     ]
    }
   ],
   "source": [
    "#Open up the output file, change to include variable taxa name\n",
    "O=open('../work/Thalassiosira-weissflogii-CCMP1336_geneIDs.txt','w')\n",
    "print O"
   ]
  },
  {
   "cell_type": "code",
   "execution_count": 6,
   "metadata": {
    "collapsed": false
   },
   "outputs": [],
   "source": [
    "# Loop over all the lines in the input file to pull out CAMPEP and cds IDs\n",
    "for line in I:\n",
    "    Ortho.seek(0)\n",
    "    OrID=['NA']\n",
    "    if re.search('^>\\S*', line):\n",
    "        #pull out CAMPEP and cds IDS\n",
    "        y=line.split() #split the line by whitespace\n",
    "        #Need to add taxaID to 'out'\n",
    "        PEPID=re.findall(\">(CAMPEP_\\S*)\", y[0])\n",
    "        cdsID=re.findall(\"([0-9]+_[0-9]+)\", y[1])\n",
    "        #Search Ortholog file for CAMPEP ID and pull out any orthoIDs\n",
    "        for nl in Ortho:\n",
    "            if re.search(''.join(PEPID), nl):\n",
    "                OrID=re.findall(\"(OG[0-9]+):\",nl)\n",
    "                #print OrID\n",
    "                break\n",
    "            #concatenate these ortho IDs onto 'out', else concatenate 'NA'\n",
    "            #Write to output file\n",
    "        out= PEPID+cdsID+OrID\n",
    "        O.write(delimiter.join(out))\n",
    "        O.write(\"\\n\")"
   ]
  },
  {
   "cell_type": "code",
   "execution_count": 7,
   "metadata": {
    "collapsed": true
   },
   "outputs": [],
   "source": [
    "I.close()"
   ]
  },
  {
   "cell_type": "code",
   "execution_count": 8,
   "metadata": {
    "collapsed": false
   },
   "outputs": [],
   "source": [
    "O.close()"
   ]
  },
  {
   "cell_type": "code",
   "execution_count": 9,
   "metadata": {
    "collapsed": true
   },
   "outputs": [],
   "source": [
    "Ortho.close()"
   ]
  },
  {
   "cell_type": "code",
   "execution_count": null,
   "metadata": {
    "collapsed": true
   },
   "outputs": [],
   "source": []
  }
 ],
 "metadata": {
  "kernelspec": {
   "display_name": "Python 2",
   "language": "python",
   "name": "python2"
  },
  "language_info": {
   "codemirror_mode": {
    "name": "ipython",
    "version": 2
   },
   "file_extension": ".py",
   "mimetype": "text/x-python",
   "name": "python",
   "nbconvert_exporter": "python",
   "pygments_lexer": "ipython2",
   "version": "2.7.11"
  }
 },
 "nbformat": 4,
 "nbformat_minor": 0
}
